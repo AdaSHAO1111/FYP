{
  "nbformat": 4,
  "nbformat_minor": 0,
  "metadata": {
    "colab": {
      "provenance": [],
      "authorship_tag": "ABX9TyNTcmCrVDiJqPARyxpQgJ9f",
      "include_colab_link": true
    },
    "kernelspec": {
      "name": "python3",
      "display_name": "Python 3"
    },
    "language_info": {
      "name": "python"
    }
  },
  "cells": [
    {
      "cell_type": "markdown",
      "metadata": {
        "id": "view-in-github",
        "colab_type": "text"
      },
      "source": [
        "<a href=\"https://colab.research.google.com/github/AdaSHAO1111/FYP/blob/main/CNNtest.ipynb\" target=\"_parent\"><img src=\"https://colab.research.google.com/assets/colab-badge.svg\" alt=\"Open In Colab\"/></a>"
      ]
    },
    {
      "cell_type": "code",
      "source": [
        "from google.colab import drive\n",
        "drive.mount('/content/drive')"
      ],
      "metadata": {
        "colab": {
          "base_uri": "https://localhost:8080/"
        },
        "id": "JOCY6zltF2u_",
        "outputId": "76b4907f-2dde-48c7-e963-34634e3972e2"
      },
      "execution_count": null,
      "outputs": [
        {
          "output_type": "stream",
          "name": "stdout",
          "text": [
            "Mounted at /content/drive\n"
          ]
        }
      ]
    },
    {
      "cell_type": "code",
      "source": [
        "# @title Default title text\n",
        "import pandas as pd\n",
        "\n",
        "# 加载数据\n",
        "df = pd.read_csv(\"/content/drive/MyDrive/FYP database/data/1701920870233_AllHeadingData.txt\", sep=';')\n",
        "\n",
        "# 筛选Gyro和Compass数据\n",
        "gyro_data = df[df['Type'] == 'Gyro']\n",
        "compass_data = df[df['Type'] == 'Compass']\n",
        "\n",
        "# 提取特征\n",
        "gyro_features = gyro_data[['value_1', 'value_2', 'value_3']].values\n",
        "compass_features = compass_data[['value_1', 'value_2', 'value_3']].values\n",
        "\n",
        "# 拼接为一个时间序列\n",
        "import numpy as np\n",
        "sequence_data = np.concatenate((gyro_features, compass_features), axis=1)  # [samples, 6 features]\n",
        "\n",
        "# 创建滑动窗口（如每50步作为一组样本）\n",
        "def create_sequences(data, window_size=50):\n",
        "    sequences = []\n",
        "    for i in range(len(data) - window_size):\n",
        "        sequences.append(data[i:i+window_size])\n",
        "    return np.array(sequences)\n",
        "\n",
        "X = create_sequences(sequence_data, window_size=50)\n",
        "\n",
        "# 假设我们有每段数据对应的QSMF标签\n",
        "y = ... # 二分类标签数组 shape=(样本数,)"
      ],
      "metadata": {
        "id": "thqEUuY-Frew"
      },
      "execution_count": null,
      "outputs": []
    },
    {
      "cell_type": "code",
      "execution_count": null,
      "metadata": {
        "colab": {
          "base_uri": "https://localhost:8080/"
        },
        "id": "3zKgdLmNfn1A",
        "outputId": "ad842b67-caa0-4492-d01c-d50343ff126b"
      },
      "outputs": [
        {
          "output_type": "stream",
          "name": "stdout",
          "text": [
            "Epoch 1/10\n",
            "\u001b[1m3/3\u001b[0m \u001b[32m━━━━━━━━━━━━━━━━━━━━\u001b[0m\u001b[37m\u001b[0m \u001b[1m2s\u001b[0m 191ms/step - accuracy: 0.5267 - loss: 0.7163 - val_accuracy: 0.9000 - val_loss: 0.5734\n",
            "Epoch 2/10\n",
            "\u001b[1m3/3\u001b[0m \u001b[32m━━━━━━━━━━━━━━━━━━━━\u001b[0m\u001b[37m\u001b[0m \u001b[1m0s\u001b[0m 44ms/step - accuracy: 0.5362 - loss: 0.6931 - val_accuracy: 0.1000 - val_loss: 0.7355\n",
            "Epoch 3/10\n",
            "\u001b[1m3/3\u001b[0m \u001b[32m━━━━━━━━━━━━━━━━━━━━\u001b[0m\u001b[37m\u001b[0m \u001b[1m0s\u001b[0m 46ms/step - accuracy: 0.5808 - loss: 0.6791 - val_accuracy: 0.3000 - val_loss: 0.7099\n",
            "Epoch 4/10\n",
            "\u001b[1m3/3\u001b[0m \u001b[32m━━━━━━━━━━━━━━━━━━━━\u001b[0m\u001b[37m\u001b[0m \u001b[1m0s\u001b[0m 61ms/step - accuracy: 0.5434 - loss: 0.6780 - val_accuracy: 0.9000 - val_loss: 0.6455\n",
            "Epoch 5/10\n",
            "\u001b[1m3/3\u001b[0m \u001b[32m━━━━━━━━━━━━━━━━━━━━\u001b[0m\u001b[37m\u001b[0m \u001b[1m0s\u001b[0m 64ms/step - accuracy: 0.5936 - loss: 0.6893 - val_accuracy: 0.9000 - val_loss: 0.6198\n",
            "Epoch 6/10\n",
            "\u001b[1m3/3\u001b[0m \u001b[32m━━━━━━━━━━━━━━━━━━━━\u001b[0m\u001b[37m\u001b[0m \u001b[1m0s\u001b[0m 44ms/step - accuracy: 0.5411 - loss: 0.6566 - val_accuracy: 0.9000 - val_loss: 0.6538\n",
            "Epoch 7/10\n",
            "\u001b[1m3/3\u001b[0m \u001b[32m━━━━━━━━━━━━━━━━━━━━\u001b[0m\u001b[37m\u001b[0m \u001b[1m0s\u001b[0m 47ms/step - accuracy: 0.5490 - loss: 0.6825 - val_accuracy: 0.1000 - val_loss: 0.7114\n",
            "Epoch 8/10\n",
            "\u001b[1m3/3\u001b[0m \u001b[32m━━━━━━━━━━━━━━━━━━━━\u001b[0m\u001b[37m\u001b[0m \u001b[1m0s\u001b[0m 41ms/step - accuracy: 0.6325 - loss: 0.6486 - val_accuracy: 0.1000 - val_loss: 0.7214\n",
            "Epoch 9/10\n",
            "\u001b[1m3/3\u001b[0m \u001b[32m━━━━━━━━━━━━━━━━━━━━\u001b[0m\u001b[37m\u001b[0m \u001b[1m0s\u001b[0m 41ms/step - accuracy: 0.6292 - loss: 0.6508 - val_accuracy: 0.9000 - val_loss: 0.6501\n",
            "Epoch 10/10\n",
            "\u001b[1m3/3\u001b[0m \u001b[32m━━━━━━━━━━━━━━━━━━━━\u001b[0m\u001b[37m\u001b[0m \u001b[1m0s\u001b[0m 42ms/step - accuracy: 0.5734 - loss: 0.6785 - val_accuracy: 0.8000 - val_loss: 0.6554\n"
          ]
        },
        {
          "output_type": "execute_result",
          "data": {
            "text/plain": [
              "<keras.src.callbacks.history.History at 0x7f4a25726510>"
            ]
          },
          "metadata": {},
          "execution_count": 5
        }
      ],
      "source": [
        "import numpy as np\n",
        "import tensorflow as tf\n",
        "from tensorflow.keras.models import Sequential\n",
        "from tensorflow.keras.layers import Input, Conv1D, MaxPooling1D, Flatten, Dense, Dropout\n",
        "\n",
        "# 模拟 X 数据 [样本数, 时间步, 特征维度]\n",
        "X = np.random.rand(100, 50, 6).astype(np.float32)\n",
        "\n",
        "# 模拟标签 y\n",
        "y = np.random.randint(0, 2, size=(100,)).astype(np.float32)\n",
        "\n",
        "# 构建模型\n",
        "model = Sequential()\n",
        "model.add(Input(shape=(50, 6)))\n",
        "model.add(Conv1D(64, 3, activation='relu'))\n",
        "model.add(MaxPooling1D(2))\n",
        "model.add(Conv1D(128, 3, activation='relu'))\n",
        "model.add(MaxPooling1D(2))\n",
        "model.add(Flatten())\n",
        "model.add(Dense(64, activation='relu'))\n",
        "model.add(Dropout(0.5))\n",
        "model.add(Dense(1, activation='sigmoid'))\n",
        "\n",
        "model.compile(optimizer='adam',\n",
        "              loss='binary_crossentropy',\n",
        "              metrics=['accuracy'])\n",
        "\n",
        "# 训练模型\n",
        "model.fit(X, y, batch_size=32, epochs=10, validation_split=0.1)"
      ]
    }
  ]
}